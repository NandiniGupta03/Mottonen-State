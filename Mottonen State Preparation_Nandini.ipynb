{
 "cells": [
  {
   "cell_type": "code",
   "execution_count": 2,
   "id": "663bea01-6821-4df2-bce7-79d361140f7d",
   "metadata": {
    "tags": []
   },
   "outputs": [
    {
     "name": "stderr",
     "output_type": "stream",
     "text": [
      "ibmqfactory.load_account:WARNING:2022-10-18 14:51:19,143: Credentials are already in use. The existing account in the session will be replaced.\n"
     ]
    }
   ],
   "source": [
    "import numpy as np\n",
    "import math\n",
    "import pennylane as qml\n",
    "from pennylane.operation import Operation, AnyWires\n",
    "# Importing standard Qiskit libraries\n",
    "import qiskit as qis\n",
    "from qiskit import QuantumCircuit, transpile, Aer, IBMQ\n",
    "from qiskit.tools.jupyter import *\n",
    "from qiskit.visualization import *\n",
    "from ibm_quantum_widgets import *\n",
    "from qiskit.providers.aer import QasmSimulator\n",
    "\n",
    "# Loading your IBM Quantum account(s)\n",
    "provider = IBMQ.load_account()"
   ]
  },
  {
   "cell_type": "code",
   "execution_count": 3,
   "id": "0a92cff3-6302-4896-8b09-ac38dc08962d",
   "metadata": {},
   "outputs": [],
   "source": [
    "def graycode(rank):\n",
    "    def gray_code_recurse(g, rank):\n",
    "        k = len(g)\n",
    "        if rank <= 0:\n",
    "            return\n",
    "        for i in range(k - 1, -1, -1):\n",
    "            char = \"1\" + g[i]\n",
    "            g.append(char)\n",
    "        for i in range(k - 1, -1, -1):\n",
    "            g[i] = \"0\" + g[i]\n",
    "        gray_code_recurse(g, rank - 1)\n",
    "    g = [\"0\", \"1\"]\n",
    "    gray_code_recurse(g, rank - 1)\n",
    "    return g"
   ]
  },
  {
   "cell_type": "code",
   "execution_count": 4,
   "id": "195954f7-b19a-4a2e-afa0-3541cedcad13",
   "metadata": {},
   "outputs": [],
   "source": [
    "def gray(n):\n",
    "    n ^= (n >> 1)\n",
    "    return bin(n)[2:]\n",
    "\n",
    "def dotP(i,j):\n",
    "    binary = np.unpackbits(np.array([int(np.binary_repr(i),2)],dtype=np.uint8))\n",
    "    gcode = np.unpackbits(np.array([int(gray(j),2)],dtype=np.uint8))\n",
    "    sum1s = np.dot(binary,gcode)\n",
    "    return sum1s"
   ]
  },
  {
   "cell_type": "code",
   "execution_count": 5,
   "id": "c87997cf-c7a5-4c63-a2e7-1ddacc9c80b3",
   "metadata": {},
   "outputs": [],
   "source": [
    "def compute_theta(alpha):\n",
    "    k = np.log2(len(alpha))\n",
    "    N = int(2**k)\n",
    "    M = np.empty((N,N))\n",
    "    for i in range(N):\n",
    "        for j in range(N):\n",
    "            M[i,j] = (1/2**(k))*((-1)**dotP(j,i))\n",
    "    theta = np.matmul(M,alpha)\n",
    "    return theta"
   ]
  },
  {
   "cell_type": "code",
   "execution_count": 6,
   "id": "8047a716-1f57-46d6-a8d9-510ab30b7248",
   "metadata": {},
   "outputs": [],
   "source": [
    "def alpha_z(omega, n, k):\n",
    "    alpha = []\n",
    "    for j in range(2**(n-k)):\n",
    "        angle = 0\n",
    "        for l in range(2**(k-1)):\n",
    "            angle = angle + (omega[(2*(j+1)-1)*(2**(k-1))+(l)] - omega[(2*(j+1)-2)*(2**(k-1))+(l)])/(2**(k-1))\n",
    "        alpha.append(angle)\n",
    "    return alpha"
   ]
  },
  {
   "cell_type": "code",
   "execution_count": 7,
   "id": "682d47f5-567d-442e-864a-9db616604275",
   "metadata": {},
   "outputs": [],
   "source": [
    "def alpha_y(a, n, k):\n",
    "    alpha = []\n",
    "    for j in range(2**(n-k)):\n",
    "        num = 0\n",
    "        denom = 0\n",
    "        for l in range(2**(k-1)):\n",
    "            num = num + abs(a[(2*(j+1)-1)*(2**(k-1))+l])**2\n",
    "        for l in range(2**k):\n",
    "            denom = denom + abs(a[j*(2**k)+l])**2\n",
    "        angle = 2*(math.asin(np.sqrt(num/denom)))\n",
    "        alpha.append(angle)\n",
    "    return alpha"
   ]
  },
  {
   "cell_type": "code",
   "execution_count": 8,
   "id": "39a9ab34-0efb-4451-b219-4173f1f80051",
   "metadata": {},
   "outputs": [],
   "source": [
    "def _apply_uniform_rotation_dagger(gate, alpha, control_wires, target_wire):\n",
    "    op_list = []\n",
    "    theta = compute_theta(alpha)\n",
    "\n",
    "    gray_code_rank = len(control_wires)\n",
    "\n",
    "    if gray_code_rank == 0:\n",
    "        if qml.math.all(theta[..., 0] != 0.0):\n",
    "            op_list.append(gate(theta[..., 0], wires=[target_wire]))\n",
    "        return op_list\n",
    "\n",
    "    code = gray_code(gray_code_rank)\n",
    "    num_selections = len(code)\n",
    "\n",
    "    control_indices = [\n",
    "        int(np.log2(int(code[i], 2) ^ int(code[(i + 1) % num_selections], 2)))\n",
    "        for i in range(num_selections)\n",
    "    ]\n",
    "\n",
    "    for i, control_index in enumerate(control_indices):\n",
    "        if qml.math.all(theta[..., i] != 0.0):\n",
    "            op_list.append(gate(theta[..., i], wires=[target_wire]))\n",
    "        op_list.append(qml.CNOT(wires=[control_wires[control_index], target_wire]))\n",
    "    return op_list"
   ]
  },
  {
   "cell_type": "code",
   "execution_count": 9,
   "id": "55267af6-3e98-4b64-a6e6-5ad36c1415ee",
   "metadata": {},
   "outputs": [],
   "source": [
    "class MottonenStatePreparation(Operation):\n",
    "    num_wires = AnyWires\n",
    "    grad_method = None\n",
    "\n",
    "    def __init__(self, state_vector, wires, do_queue=True, id=None):\n",
    "\n",
    "        # check if the `state_vector` param is batched\n",
    "        batched = len(qml.math.shape(state_vector)) > 1\n",
    "\n",
    "        state_batch = state_vector if batched else [state_vector]\n",
    "\n",
    "        # apply checks to each state vector in the batch\n",
    "        for i, state in enumerate(state_batch):\n",
    "            shape = qml.math.shape(state)\n",
    "\n",
    "            if len(shape) != 1:\n",
    "                raise ValueError(\n",
    "                    f\"State vectors must be one-dimensional; vector {i} has shape {shape}.\"\n",
    "                )\n",
    "\n",
    "            n_amplitudes = shape[0]\n",
    "            if n_amplitudes != 2 ** len(qml.wires.Wires(wires)):\n",
    "                raise ValueError(\n",
    "                    f\"State vectors must be of length {2 ** len(wires)} or less; vector {i} has length {n_amplitudes}.\"\n",
    "                )\n",
    "\n",
    "            norm = qml.math.sum(qml.math.abs(state) ** 2)\n",
    "            if not qml.math.allclose(norm, 1.0, atol=1e-3):\n",
    "                raise ValueError(\n",
    "                    f\"State vectors have to be of norm 1.0, vector {i} has norm {norm}\"\n",
    "                )\n",
    "\n",
    "        super().__init__(state_vector, wires=wires, do_queue=do_queue, id=id)\n",
    "\n",
    "    def num_params(self):\n",
    "        return 1\n",
    "    \n",
    "    def compute_decomposition(state_vector, wires):  # pylint: disable=arguments-differ\n",
    "        a = qml.math.abs(state_vector)\n",
    "        omega = qml.math.angle(state_vector)\n",
    "        # change ordering of wires, since original code\n",
    "        # was written for IBM machines\n",
    "        wires_reverse = wires[::-1]\n",
    "\n",
    "        op_list = []\n",
    "\n",
    "        # Apply inverse y rotation cascade to prepare correct absolute values of amplitudes\n",
    "        for k in range(len(wires_reverse), 0, -1):\n",
    "            alpha_y_k = _get_alpha_y(a, len(wires_reverse), k)\n",
    "            control = wires_reverse[k:]\n",
    "            target = wires_reverse[k - 1]\n",
    "            op_list.extend(_apply_uniform_rotation_dagger(qml.RY, alpha_y_k, control, target))\n",
    "\n",
    "        # If necessary, apply inverse z rotation cascade to prepare correct phases of amplitudes\n",
    "        if not qml.math.allclose(omega, 0):\n",
    "            for k in range(len(wires_reverse), 0, -1):\n",
    "                alpha_z_k = _get_alpha_z(omega, len(wires_reverse), k)\n",
    "                control = wires_reverse[k:]\n",
    "                target = wires_reverse[k - 1]\n",
    "                if len(alpha_z_k) > 0:\n",
    "                    op_list.extend(\n",
    "                        _apply_uniform_rotation_dagger(qml.RZ, alpha_z_k, control, target)\n",
    "                    )\n",
    "\n",
    "        return op_list\n"
   ]
  },
  {
   "cell_type": "code",
   "execution_count": 10,
   "id": "fd0b756c-622a-4b5c-9cf6-85c1d70425ad",
   "metadata": {},
   "outputs": [
    {
     "name": "stdout",
     "output_type": "stream",
     "text": [
      "0: ──RY(2.05)─╭●───────────╭●───────────────╭●─────────────────────────╭●\n",
      "1: ──RY(2.14)─╰X──RY(0.39)─╰X─╭●────────────│─────────────╭●───────────│─\n",
      "2: ──RY(1.99)─────────────────╰X──RY(-0.00)─╰X──RY(-0.32)─╰X──RY(0.55)─╰X\n",
      "\n",
      "───RZ(-0.79)─╭●───────────╭●──────────────╭●─────────────────────────╭●─┤  State\n",
      "───RZ(0.79)──╰X──RZ(0.79)─╰X─╭●───────────│────────────╭●────────────│──┤  State\n",
      "───RZ(0.79)──────────────────╰X──RZ(0.79)─╰X──RZ(0.79)─╰X──RZ(-0.79)─╰X─┤  State\n"
     ]
    }
   ],
   "source": [
    "dev = qml.device('default.qubit', wires=3)\n",
    "\n",
    "@qml.qnode(dev)\n",
    "def circuit(state):\n",
    "    qml.MottonenStatePreparation(state_vector=state, wires=range(3))\n",
    "    return qml.state()\n",
    "\n",
    "state = np.array([1, 2j, -1, 7j, 5, 6j, 8, 5j])\n",
    "state = state / np.linalg.norm(state)\n",
    "\n",
    "print(qml.draw(circuit, expansion_strategy=\"device\", max_length=80)(state))"
   ]
  }
 ],
 "metadata": {
  "kernelspec": {
   "display_name": "Python 3 (ipykernel)",
   "language": "python",
   "name": "python3"
  },
  "language_info": {
   "codemirror_mode": {
    "name": "ipython",
    "version": 3
   },
   "file_extension": ".py",
   "mimetype": "text/x-python",
   "name": "python",
   "nbconvert_exporter": "python",
   "pygments_lexer": "ipython3",
   "version": "3.8.13"
  },
  "widgets": {
   "application/vnd.jupyter.widget-state+json": {
    "state": {
     "0ed33ebc435a4df98b7cc7cb4c6d0bbc": {
      "model_module": "@jupyter-widgets/controls",
      "model_module_version": "1.5.0",
      "model_name": "DescriptionStyleModel",
      "state": {
       "description_width": ""
      }
     },
     "2544683e7266442591332d2330297b56": {
      "model_module": "@jupyter-widgets/controls",
      "model_module_version": "1.5.0",
      "model_name": "GridBoxModel",
      "state": {
       "children": [
        "IPY_MODEL_f0e56c75d59540249fe9eedf751ae9b7"
       ],
       "layout": "IPY_MODEL_5958f9e4ca584b59b486e483fe850554"
      }
     },
     "2d7b81d2254f4d1183cdb702f5fcb1c8": {
      "model_module": "@jupyter-widgets/base",
      "model_module_version": "1.2.0",
      "model_name": "LayoutModel",
      "state": {
       "width": "145px"
      }
     },
     "394065c9fcea4efdac5fb990ad5a1b42": {
      "model_module": "@jupyter-widgets/base",
      "model_module_version": "1.2.0",
      "model_name": "LayoutModel",
      "state": {
       "margin": "0px 0px 10px 0px"
      }
     },
     "5924749db79a49269b9adcdb7916a875": {
      "model_module": "@jupyter-widgets/controls",
      "model_module_version": "1.5.0",
      "model_name": "HTMLModel",
      "state": {
       "layout": "IPY_MODEL_c66f7c23def643acbaa76f98f3ec57a3",
       "style": "IPY_MODEL_9d602db6bc6b43fdaa66c5ff9cb312fd",
       "value": "<h5>Status</h5>"
      }
     },
     "5958f9e4ca584b59b486e483fe850554": {
      "model_module": "@jupyter-widgets/base",
      "model_module_version": "1.2.0",
      "model_name": "LayoutModel",
      "state": {
       "grid_template_areas": "\n                                       \". . . . right \"\n                                        ",
       "grid_template_columns": "20% 20% 20% 20% 20%",
       "width": "100%"
      }
     },
     "6405c8b5d9d841b2a98cb78307bf3199": {
      "model_module": "@jupyter-widgets/base",
      "model_module_version": "1.2.0",
      "model_name": "LayoutModel",
      "state": {
       "width": "190px"
      }
     },
     "7068bf61b0dd41e5a8f8de665423b415": {
      "model_module": "@jupyter-widgets/controls",
      "model_module_version": "1.5.0",
      "model_name": "ButtonStyleModel",
      "state": {}
     },
     "7e7855f26e6f465a835d3dd69c1d0ad6": {
      "model_module": "@jupyter-widgets/base",
      "model_module_version": "1.2.0",
      "model_name": "LayoutModel",
      "state": {
       "grid_area": "right",
       "padding": "0px 0px 0px 0px",
       "width": "70px"
      }
     },
     "7f5d7512c5c24624a2b4ba822d2ddba4": {
      "model_module": "@jupyter-widgets/controls",
      "model_module_version": "1.5.0",
      "model_name": "DescriptionStyleModel",
      "state": {
       "description_width": ""
      }
     },
     "82057d4ba07b429c90391abd4f3a2ed9": {
      "model_module": "@jupyter-widgets/controls",
      "model_module_version": "1.5.0",
      "model_name": "HTMLModel",
      "state": {
       "layout": "IPY_MODEL_2d7b81d2254f4d1183cdb702f5fcb1c8",
       "style": "IPY_MODEL_dd0b1e17640a432aa8a4d031a9355d99",
       "value": "<h5>Backend</h5>"
      }
     },
     "890dd87f219b46ef806d5fbb8ae5289b": {
      "model_module": "@jupyter-widgets/base",
      "model_module_version": "1.2.0",
      "model_name": "LayoutModel",
      "state": {
       "margin": "0px 0px 0px 37px",
       "width": "600px"
      }
     },
     "893819a25851463eb1ee0763a2ba24a6": {
      "model_module": "@jupyter-widgets/controls",
      "model_module_version": "1.5.0",
      "model_name": "HBoxModel",
      "state": {
       "children": [
        "IPY_MODEL_cb865f56f55b4a23b849d14ce78e8b46",
        "IPY_MODEL_82057d4ba07b429c90391abd4f3a2ed9",
        "IPY_MODEL_5924749db79a49269b9adcdb7916a875",
        "IPY_MODEL_e8a10aa14c224de9860c239a4ccfc292",
        "IPY_MODEL_dad5e200e02c43d38089356fc2ee93f0"
       ],
       "layout": "IPY_MODEL_890dd87f219b46ef806d5fbb8ae5289b"
      }
     },
     "9d602db6bc6b43fdaa66c5ff9cb312fd": {
      "model_module": "@jupyter-widgets/controls",
      "model_module_version": "1.5.0",
      "model_name": "DescriptionStyleModel",
      "state": {
       "description_width": ""
      }
     },
     "9f22b1d80ba7438f91de70fb28332b34": {
      "model_module": "@jupyter-widgets/base",
      "model_module_version": "1.2.0",
      "model_name": "LayoutModel",
      "state": {}
     },
     "af3c52f53afe4bbd9a16ab0f26ebdc67": {
      "model_module": "@jupyter-widgets/base",
      "model_module_version": "1.2.0",
      "model_name": "LayoutModel",
      "state": {
       "width": "70px"
      }
     },
     "c66f7c23def643acbaa76f98f3ec57a3": {
      "model_module": "@jupyter-widgets/base",
      "model_module_version": "1.2.0",
      "model_name": "LayoutModel",
      "state": {
       "width": "95px"
      }
     },
     "cb865f56f55b4a23b849d14ce78e8b46": {
      "model_module": "@jupyter-widgets/controls",
      "model_module_version": "1.5.0",
      "model_name": "HTMLModel",
      "state": {
       "layout": "IPY_MODEL_6405c8b5d9d841b2a98cb78307bf3199",
       "style": "IPY_MODEL_7f5d7512c5c24624a2b4ba822d2ddba4",
       "value": "<h5>Job ID</h5>"
      }
     },
     "d2a8b051abd34dbb88a7cbae3ad1f70f": {
      "model_module": "@jupyter-widgets/controls",
      "model_module_version": "1.5.0",
      "model_name": "HTMLModel",
      "state": {
       "layout": "IPY_MODEL_394065c9fcea4efdac5fb990ad5a1b42",
       "style": "IPY_MODEL_0ed33ebc435a4df98b7cc7cb4c6d0bbc",
       "value": "<p style='font-family: IBM Plex Sans, Arial, Helvetica, sans-serif; font-size: 20px; font-weight: medium;'>Circuit Properties</p>"
      }
     },
     "d8b6d554bfd34964b6ff218a15f6fca9": {
      "model_module": "@jupyter-widgets/controls",
      "model_module_version": "1.5.0",
      "model_name": "DescriptionStyleModel",
      "state": {
       "description_width": ""
      }
     },
     "dad5e200e02c43d38089356fc2ee93f0": {
      "model_module": "@jupyter-widgets/controls",
      "model_module_version": "1.5.0",
      "model_name": "HTMLModel",
      "state": {
       "layout": "IPY_MODEL_9f22b1d80ba7438f91de70fb28332b34",
       "style": "IPY_MODEL_d8b6d554bfd34964b6ff218a15f6fca9",
       "value": "<h5>Message</h5>"
      }
     },
     "dd0b1e17640a432aa8a4d031a9355d99": {
      "model_module": "@jupyter-widgets/controls",
      "model_module_version": "1.5.0",
      "model_name": "DescriptionStyleModel",
      "state": {
       "description_width": ""
      }
     },
     "dfec9888dcd545cb86b56a58e9d43817": {
      "model_module": "@jupyter-widgets/controls",
      "model_module_version": "1.5.0",
      "model_name": "DescriptionStyleModel",
      "state": {
       "description_width": ""
      }
     },
     "e8a10aa14c224de9860c239a4ccfc292": {
      "model_module": "@jupyter-widgets/controls",
      "model_module_version": "1.5.0",
      "model_name": "HTMLModel",
      "state": {
       "layout": "IPY_MODEL_af3c52f53afe4bbd9a16ab0f26ebdc67",
       "style": "IPY_MODEL_dfec9888dcd545cb86b56a58e9d43817",
       "value": "<h5>Queue</h5>"
      }
     },
     "f0e56c75d59540249fe9eedf751ae9b7": {
      "model_module": "@jupyter-widgets/controls",
      "model_module_version": "1.5.0",
      "model_name": "ButtonModel",
      "state": {
       "button_style": "primary",
       "description": "Clear",
       "layout": "IPY_MODEL_7e7855f26e6f465a835d3dd69c1d0ad6",
       "style": "IPY_MODEL_7068bf61b0dd41e5a8f8de665423b415"
      }
     }
    },
    "version_major": 2,
    "version_minor": 0
   }
  }
 },
 "nbformat": 4,
 "nbformat_minor": 5
}
